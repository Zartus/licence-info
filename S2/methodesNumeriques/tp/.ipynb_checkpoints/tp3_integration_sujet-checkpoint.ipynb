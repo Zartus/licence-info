{
 "cells": [
  {
   "cell_type": "markdown",
   "metadata": {},
   "source": [
    "# Intégration numérique"
   ]
  },
  {
   "cell_type": "code",
   "execution_count": 1,
   "metadata": {},
   "outputs": [
    {
     "ename": "ModuleNotFoundError",
     "evalue": "No module named 'matplotlib'",
     "output_type": "error",
     "traceback": [
      "\u001b[0;31m---------------------------------------------------------------------------\u001b[0m",
      "\u001b[0;31mModuleNotFoundError\u001b[0m                       Traceback (most recent call last)",
      "\u001b[0;32m<ipython-input-1-4ea51f371400>\u001b[0m in \u001b[0;36m<module>\u001b[0;34m\u001b[0m\n\u001b[0;32m----> 1\u001b[0;31m \u001b[0mget_ipython\u001b[0m\u001b[0;34m(\u001b[0m\u001b[0;34m)\u001b[0m\u001b[0;34m.\u001b[0m\u001b[0mrun_line_magic\u001b[0m\u001b[0;34m(\u001b[0m\u001b[0;34m'pylab'\u001b[0m\u001b[0;34m,\u001b[0m \u001b[0;34m''\u001b[0m\u001b[0;34m)\u001b[0m\u001b[0;34m\u001b[0m\u001b[0;34m\u001b[0m\u001b[0m\n\u001b[0m",
      "\u001b[0;32m/usr/lib/python3.7/site-packages/IPython/core/interactiveshell.py\u001b[0m in \u001b[0;36mrun_line_magic\u001b[0;34m(self, magic_name, line, _stack_depth)\u001b[0m\n\u001b[1;32m   2285\u001b[0m                 \u001b[0mkwargs\u001b[0m\u001b[0;34m[\u001b[0m\u001b[0;34m'local_ns'\u001b[0m\u001b[0;34m]\u001b[0m \u001b[0;34m=\u001b[0m \u001b[0msys\u001b[0m\u001b[0;34m.\u001b[0m\u001b[0m_getframe\u001b[0m\u001b[0;34m(\u001b[0m\u001b[0mstack_depth\u001b[0m\u001b[0;34m)\u001b[0m\u001b[0;34m.\u001b[0m\u001b[0mf_locals\u001b[0m\u001b[0;34m\u001b[0m\u001b[0;34m\u001b[0m\u001b[0m\n\u001b[1;32m   2286\u001b[0m             \u001b[0;32mwith\u001b[0m \u001b[0mself\u001b[0m\u001b[0;34m.\u001b[0m\u001b[0mbuiltin_trap\u001b[0m\u001b[0;34m:\u001b[0m\u001b[0;34m\u001b[0m\u001b[0;34m\u001b[0m\u001b[0m\n\u001b[0;32m-> 2287\u001b[0;31m                 \u001b[0mresult\u001b[0m \u001b[0;34m=\u001b[0m \u001b[0mfn\u001b[0m\u001b[0;34m(\u001b[0m\u001b[0;34m*\u001b[0m\u001b[0margs\u001b[0m\u001b[0;34m,\u001b[0m\u001b[0;34m**\u001b[0m\u001b[0mkwargs\u001b[0m\u001b[0;34m)\u001b[0m\u001b[0;34m\u001b[0m\u001b[0;34m\u001b[0m\u001b[0m\n\u001b[0m\u001b[1;32m   2288\u001b[0m             \u001b[0;32mreturn\u001b[0m \u001b[0mresult\u001b[0m\u001b[0;34m\u001b[0m\u001b[0;34m\u001b[0m\u001b[0m\n\u001b[1;32m   2289\u001b[0m \u001b[0;34m\u001b[0m\u001b[0m\n",
      "\u001b[0;32m</usr/lib/python3.7/site-packages/decorator.py:decorator-gen-108>\u001b[0m in \u001b[0;36mpylab\u001b[0;34m(self, line)\u001b[0m\n",
      "\u001b[0;32m/usr/lib/python3.7/site-packages/IPython/core/magic.py\u001b[0m in \u001b[0;36m<lambda>\u001b[0;34m(f, *a, **k)\u001b[0m\n\u001b[1;32m    185\u001b[0m     \u001b[0;31m# but it's overkill for just that one bit of state.\u001b[0m\u001b[0;34m\u001b[0m\u001b[0;34m\u001b[0m\u001b[0;34m\u001b[0m\u001b[0m\n\u001b[1;32m    186\u001b[0m     \u001b[0;32mdef\u001b[0m \u001b[0mmagic_deco\u001b[0m\u001b[0;34m(\u001b[0m\u001b[0marg\u001b[0m\u001b[0;34m)\u001b[0m\u001b[0;34m:\u001b[0m\u001b[0;34m\u001b[0m\u001b[0;34m\u001b[0m\u001b[0m\n\u001b[0;32m--> 187\u001b[0;31m         \u001b[0mcall\u001b[0m \u001b[0;34m=\u001b[0m \u001b[0;32mlambda\u001b[0m \u001b[0mf\u001b[0m\u001b[0;34m,\u001b[0m \u001b[0;34m*\u001b[0m\u001b[0ma\u001b[0m\u001b[0;34m,\u001b[0m \u001b[0;34m**\u001b[0m\u001b[0mk\u001b[0m\u001b[0;34m:\u001b[0m \u001b[0mf\u001b[0m\u001b[0;34m(\u001b[0m\u001b[0;34m*\u001b[0m\u001b[0ma\u001b[0m\u001b[0;34m,\u001b[0m \u001b[0;34m**\u001b[0m\u001b[0mk\u001b[0m\u001b[0;34m)\u001b[0m\u001b[0;34m\u001b[0m\u001b[0;34m\u001b[0m\u001b[0m\n\u001b[0m\u001b[1;32m    188\u001b[0m \u001b[0;34m\u001b[0m\u001b[0m\n\u001b[1;32m    189\u001b[0m         \u001b[0;32mif\u001b[0m \u001b[0mcallable\u001b[0m\u001b[0;34m(\u001b[0m\u001b[0marg\u001b[0m\u001b[0;34m)\u001b[0m\u001b[0;34m:\u001b[0m\u001b[0;34m\u001b[0m\u001b[0;34m\u001b[0m\u001b[0m\n",
      "\u001b[0;32m/usr/lib/python3.7/site-packages/IPython/core/magics/pylab.py\u001b[0m in \u001b[0;36mpylab\u001b[0;34m(self, line)\u001b[0m\n\u001b[1;32m    153\u001b[0m             \u001b[0mimport_all\u001b[0m \u001b[0;34m=\u001b[0m \u001b[0;32mnot\u001b[0m \u001b[0margs\u001b[0m\u001b[0;34m.\u001b[0m\u001b[0mno_import_all\u001b[0m\u001b[0;34m\u001b[0m\u001b[0;34m\u001b[0m\u001b[0m\n\u001b[1;32m    154\u001b[0m \u001b[0;34m\u001b[0m\u001b[0m\n\u001b[0;32m--> 155\u001b[0;31m         \u001b[0mgui\u001b[0m\u001b[0;34m,\u001b[0m \u001b[0mbackend\u001b[0m\u001b[0;34m,\u001b[0m \u001b[0mclobbered\u001b[0m \u001b[0;34m=\u001b[0m \u001b[0mself\u001b[0m\u001b[0;34m.\u001b[0m\u001b[0mshell\u001b[0m\u001b[0;34m.\u001b[0m\u001b[0menable_pylab\u001b[0m\u001b[0;34m(\u001b[0m\u001b[0margs\u001b[0m\u001b[0;34m.\u001b[0m\u001b[0mgui\u001b[0m\u001b[0;34m,\u001b[0m \u001b[0mimport_all\u001b[0m\u001b[0;34m=\u001b[0m\u001b[0mimport_all\u001b[0m\u001b[0;34m)\u001b[0m\u001b[0;34m\u001b[0m\u001b[0;34m\u001b[0m\u001b[0m\n\u001b[0m\u001b[1;32m    156\u001b[0m         \u001b[0mself\u001b[0m\u001b[0;34m.\u001b[0m\u001b[0m_show_matplotlib_backend\u001b[0m\u001b[0;34m(\u001b[0m\u001b[0margs\u001b[0m\u001b[0;34m.\u001b[0m\u001b[0mgui\u001b[0m\u001b[0;34m,\u001b[0m \u001b[0mbackend\u001b[0m\u001b[0;34m)\u001b[0m\u001b[0;34m\u001b[0m\u001b[0;34m\u001b[0m\u001b[0m\n\u001b[1;32m    157\u001b[0m         \u001b[0mprint\u001b[0m \u001b[0;34m(\u001b[0m\u001b[0;34m\"Populating the interactive namespace from numpy and matplotlib\"\u001b[0m\u001b[0;34m)\u001b[0m\u001b[0;34m\u001b[0m\u001b[0;34m\u001b[0m\u001b[0m\n",
      "\u001b[0;32m/usr/lib/python3.7/site-packages/IPython/core/interactiveshell.py\u001b[0m in \u001b[0;36menable_pylab\u001b[0;34m(self, gui, import_all, welcome_message)\u001b[0m\n\u001b[1;32m   3392\u001b[0m         \u001b[0;32mfrom\u001b[0m \u001b[0mIPython\u001b[0m\u001b[0;34m.\u001b[0m\u001b[0mcore\u001b[0m\u001b[0;34m.\u001b[0m\u001b[0mpylabtools\u001b[0m \u001b[0;32mimport\u001b[0m \u001b[0mimport_pylab\u001b[0m\u001b[0;34m\u001b[0m\u001b[0;34m\u001b[0m\u001b[0m\n\u001b[1;32m   3393\u001b[0m \u001b[0;34m\u001b[0m\u001b[0m\n\u001b[0;32m-> 3394\u001b[0;31m         \u001b[0mgui\u001b[0m\u001b[0;34m,\u001b[0m \u001b[0mbackend\u001b[0m \u001b[0;34m=\u001b[0m \u001b[0mself\u001b[0m\u001b[0;34m.\u001b[0m\u001b[0menable_matplotlib\u001b[0m\u001b[0;34m(\u001b[0m\u001b[0mgui\u001b[0m\u001b[0;34m)\u001b[0m\u001b[0;34m\u001b[0m\u001b[0;34m\u001b[0m\u001b[0m\n\u001b[0m\u001b[1;32m   3395\u001b[0m \u001b[0;34m\u001b[0m\u001b[0m\n\u001b[1;32m   3396\u001b[0m         \u001b[0;31m# We want to prevent the loading of pylab to pollute the user's\u001b[0m\u001b[0;34m\u001b[0m\u001b[0;34m\u001b[0m\u001b[0;34m\u001b[0m\u001b[0m\n",
      "\u001b[0;32m/usr/lib/python3.7/site-packages/IPython/core/interactiveshell.py\u001b[0m in \u001b[0;36menable_matplotlib\u001b[0;34m(self, gui)\u001b[0m\n\u001b[1;32m   3341\u001b[0m         \"\"\"\n\u001b[1;32m   3342\u001b[0m         \u001b[0;32mfrom\u001b[0m \u001b[0mIPython\u001b[0m\u001b[0;34m.\u001b[0m\u001b[0mcore\u001b[0m \u001b[0;32mimport\u001b[0m \u001b[0mpylabtools\u001b[0m \u001b[0;32mas\u001b[0m \u001b[0mpt\u001b[0m\u001b[0;34m\u001b[0m\u001b[0;34m\u001b[0m\u001b[0m\n\u001b[0;32m-> 3343\u001b[0;31m         \u001b[0mgui\u001b[0m\u001b[0;34m,\u001b[0m \u001b[0mbackend\u001b[0m \u001b[0;34m=\u001b[0m \u001b[0mpt\u001b[0m\u001b[0;34m.\u001b[0m\u001b[0mfind_gui_and_backend\u001b[0m\u001b[0;34m(\u001b[0m\u001b[0mgui\u001b[0m\u001b[0;34m,\u001b[0m \u001b[0mself\u001b[0m\u001b[0;34m.\u001b[0m\u001b[0mpylab_gui_select\u001b[0m\u001b[0;34m)\u001b[0m\u001b[0;34m\u001b[0m\u001b[0;34m\u001b[0m\u001b[0m\n\u001b[0m\u001b[1;32m   3344\u001b[0m \u001b[0;34m\u001b[0m\u001b[0m\n\u001b[1;32m   3345\u001b[0m         \u001b[0;32mif\u001b[0m \u001b[0mgui\u001b[0m \u001b[0;34m!=\u001b[0m \u001b[0;34m'inline'\u001b[0m\u001b[0;34m:\u001b[0m\u001b[0;34m\u001b[0m\u001b[0;34m\u001b[0m\u001b[0m\n",
      "\u001b[0;32m/usr/lib/python3.7/site-packages/IPython/core/pylabtools.py\u001b[0m in \u001b[0;36mfind_gui_and_backend\u001b[0;34m(gui, gui_select)\u001b[0m\n\u001b[1;32m    274\u001b[0m     \"\"\"\n\u001b[1;32m    275\u001b[0m \u001b[0;34m\u001b[0m\u001b[0m\n\u001b[0;32m--> 276\u001b[0;31m     \u001b[0;32mimport\u001b[0m \u001b[0mmatplotlib\u001b[0m\u001b[0;34m\u001b[0m\u001b[0;34m\u001b[0m\u001b[0m\n\u001b[0m\u001b[1;32m    277\u001b[0m \u001b[0;34m\u001b[0m\u001b[0m\n\u001b[1;32m    278\u001b[0m     \u001b[0;32mif\u001b[0m \u001b[0mgui\u001b[0m \u001b[0;32mand\u001b[0m \u001b[0mgui\u001b[0m \u001b[0;34m!=\u001b[0m \u001b[0;34m'auto'\u001b[0m\u001b[0;34m:\u001b[0m\u001b[0;34m\u001b[0m\u001b[0;34m\u001b[0m\u001b[0m\n",
      "\u001b[0;31mModuleNotFoundError\u001b[0m: No module named 'matplotlib'"
     ]
    }
   ],
   "source": [
    "%pylab"
   ]
  },
  {
   "cell_type": "markdown",
   "metadata": {},
   "source": [
    "# Programmation des 3 méthodes classiques : point milieu, trapèzes, Simpson"
   ]
  },
  {
   "cell_type": "markdown",
   "metadata": {},
   "source": [
    "Soient $a$ et $b$ deux réels tels que $a < b$ et $f$ une fonction continue sur $[a,b]$.\n",
    "\n",
    "Dans cette section , on cherche à comparer les 3 méthodes classiques d'intégration numérique décrites en cours pour approcher\n",
    "$$\n",
    "I(f,a,b) := \\int_a^b f(x) dx.\n",
    "$$\n",
    "\n",
    "Pour ce faire, on considère une subdivision $a = a_0 < a_1 < ... < a_n = b$ de $[a,b]$ avec \n",
    "$a_i = a+ih$ et $h = \\dfrac{b-a}{n}$."
   ]
  },
  {
   "cell_type": "markdown",
   "metadata": {},
   "source": [
    "## 1 - Méthode du point milieu\n",
    "\n",
    "On rappelle que la formule du point milieu composite pour approcher $I(f,a,b)$ est donnée par\n",
    "$$\n",
    "J_m^c(f,a,b,n) = \\dfrac{b-a}{n} \\sum_{j = 0}^{n-1} f\\left(\\dfrac{a_j+a_{j+1}}{2}\\right).\n",
    "$$"
   ]
  },
  {
   "cell_type": "markdown",
   "metadata": {},
   "source": [
    "Écrire une fonction **mil** qui, pour les entrées $f$ (la fonction à intégrer), $a$, $b$ (les bornes de l'intégrale) et $n$ (le nombre de sous-intervalles), retourne la valeur de $J_m^c(f,a,b,n)$ rappelée ci-dessus.\n",
    "\n",
    "On testera cette fonction pour approcher l'intégrale $\\int_0^1 e^x dx$ dont on connaît la valeur $I_e$."
   ]
  },
  {
   "cell_type": "code",
   "execution_count": null,
   "metadata": {},
   "outputs": [],
   "source": []
  },
  {
   "cell_type": "markdown",
   "metadata": {},
   "source": [
    "Dans cette question, on travaille avec la fonction $f = exp$, $a = 0$ et $b = 1$.\n",
    "\n",
    "Écrire les commandes nécessaires au tracé de l'évolution de l'erreur $$E_m(n) := \\Big|J_m^c(exp,0,1,n)-I_e\\Big|$$ en fonction de $n$. On fera varier $n$ de $1$ à $1000$."
   ]
  },
  {
   "cell_type": "code",
   "execution_count": null,
   "metadata": {},
   "outputs": [],
   "source": []
  },
  {
   "cell_type": "markdown",
   "metadata": {},
   "source": [
    "Reprendre la question précedente et faire le tracé en échelle logarithmique (commande *loglog*)."
   ]
  },
  {
   "cell_type": "code",
   "execution_count": null,
   "metadata": {},
   "outputs": [],
   "source": []
  },
  {
   "cell_type": "markdown",
   "metadata": {},
   "source": [
    "Quel est le comportement de l'erreur $E_m(n)$ ?\n",
    "\n",
    "Pour répondre à cette question, on pourra utiliser les notions suivantes : \n",
    "\n",
    "+ Si $E(n)$, $C$ et $\\alpha$ sont des quantités positives, on a \n",
    "$$\n",
    "E(n) \\sim \\dfrac{C}{n^\\alpha} \n",
    "\\Longleftrightarrow \n",
    "\\log\\Big(E(n)\\Big) \\sim \\log(C)-\\alpha \\log(n).\n",
    "$$\n",
    "\n",
    "+ En conséquence, si le tracé de $\\log\\Big(E(n)\\Big)$ en fonction de $\\log(n)$ est une droite, la pente de cette dernière donne $-\\alpha$.\n",
    "\n",
    "+ On rappelle que si $E(n) \\sim\\dfrac{C}{n^\\alpha}$, on dit que $E(n)$ est de l'ordre de  $\\dfrac{1}{n^\\alpha}.$"
   ]
  },
  {
   "cell_type": "code",
   "execution_count": null,
   "metadata": {},
   "outputs": [],
   "source": []
  },
  {
   "cell_type": "markdown",
   "metadata": {},
   "source": [
    "## 2 - Méthode des trapèzes\n",
    "\n",
    "On rappelle que la formule des trapèzes composite pour approcher $I(f,a,b)$ est donnée par\n",
    "$$\n",
    "J_t^c(f,a,b,n) = \\dfrac{b-a}{2n} \\left( f(a) + f(b) + 2\\sum_{j = 1}^{n-1} f(a_j) \\right).\n",
    "$$"
   ]
  },
  {
   "cell_type": "markdown",
   "metadata": {},
   "source": [
    "Écrire une fonction **trap** qui, pour les entrées $f$, $a$, $b$ et $n$, retourne la valeur de $J_t^c(f,a,b,n)$ rappelée ci-dessus.\n",
    "\n",
    "On testera cette fonction pour approcher l'intégrale $\\int_0^1 e^x dx$ dont on connaît la valeur $I_e$."
   ]
  },
  {
   "cell_type": "code",
   "execution_count": null,
   "metadata": {},
   "outputs": [],
   "source": []
  },
  {
   "cell_type": "markdown",
   "metadata": {},
   "source": [
    "Dans cette question, on travaille avec la fonction $f = exp$, $a = 0$ et $b = 1$.\n",
    "\n",
    "Écrire les commandes nécessaires au tracé, en échelle logarithmique, de l'évolution de l'erreur $$E_t(n) := \\Big|J_t^c(exp,0,1,n)-I_e\\Big|$$ en fonction de $n$. On fera varier $n$ de $1$ à $1000$."
   ]
  },
  {
   "cell_type": "code",
   "execution_count": null,
   "metadata": {},
   "outputs": [],
   "source": []
  },
  {
   "cell_type": "markdown",
   "metadata": {},
   "source": [
    "Quel est le comportement de l'erreur $E_t(n)$ ?"
   ]
  },
  {
   "cell_type": "code",
   "execution_count": null,
   "metadata": {},
   "outputs": [],
   "source": []
  },
  {
   "cell_type": "markdown",
   "metadata": {},
   "source": [
    "## 3 - Méthode de Simpson\n",
    "\n",
    "On rappelle que la formule de Simpson composite pour approcher $I(f,a,b)$ est donnée par\n",
    "$$\n",
    "\\begin{array}{rcl}\n",
    "J_s^c(f,a,b,n) & = \n",
    "& \\dfrac{b-a}{6n} \\left( f(a) + f(b) + 2\\sum_{j = 1}^{n-1} f(a_j) \n",
    "+ 4 \\sum_{j = 0}^{n-1} f\\left(\\dfrac{a_j+a_{j+1}}{2}\\right)\n",
    "\\right) \n",
    "\\\\\n",
    "& = \n",
    "& \\dfrac{1}{3} J_t^c(f,a,b,n) + \\dfrac{2}{3} J_m^c(f,a,b,n).\n",
    "\\end{array}\n",
    "$$"
   ]
  },
  {
   "cell_type": "markdown",
   "metadata": {},
   "source": [
    "Écrire une fonction **simp** qui, pour les entrées $f$, $a$, $b$ et $n$, retourne la valeur $J_s^c(f,a,b,n)$ rappelée ci-dessus.\n",
    "\n",
    "On testera cette fonction pour approcher l'intégrale $\\int_0^1 e^x dx$ dont on connaît la valeur $I_e$."
   ]
  },
  {
   "cell_type": "code",
   "execution_count": null,
   "metadata": {},
   "outputs": [],
   "source": []
  },
  {
   "cell_type": "markdown",
   "metadata": {},
   "source": [
    "Dans cette question, on travaille avec la fonction $f = exp$, $a = 0$ et $b = 1$.\n",
    "\n",
    "Écrire les commandes nécessaires au tracé, en échelle logarithmique, de l'évolution de l'erreur $$E_s(n) := \\Big|J_s^c(exp,0,1,n)-I_e\\Big|$$ en fonction de $n$. On fera varier $n$ de $1$ à $1000$."
   ]
  },
  {
   "cell_type": "code",
   "execution_count": null,
   "metadata": {},
   "outputs": [],
   "source": []
  },
  {
   "cell_type": "markdown",
   "metadata": {},
   "source": [
    "Quel est le comportement de l'erreur $E_s(n)$ ?"
   ]
  },
  {
   "cell_type": "code",
   "execution_count": null,
   "metadata": {},
   "outputs": [],
   "source": []
  },
  {
   "cell_type": "markdown",
   "metadata": {},
   "source": [
    "## 4 - Bilan\n",
    "\n",
    "Tracé sur le même graphe, l'évolution de $E_m(n)$ (en vert), $E_t(n)$ (en noir) et $E_s(n)$ (en rouge) en fonction de $n$, en échelle logarithmique, avec des couleurs différentes et une légende."
   ]
  },
  {
   "cell_type": "code",
   "execution_count": null,
   "metadata": {},
   "outputs": [],
   "source": []
  },
  {
   "cell_type": "markdown",
   "metadata": {},
   "source": [
    "# Calcul d'un signal moyen\n",
    "\n",
    "On suppose qu'on dispose du signal bleu $s$ tracé ci-dessous en fonction du temps $t$. "
   ]
  },
  {
   "cell_type": "code",
   "execution_count": null,
   "metadata": {},
   "outputs": [],
   "source": [
    "n = 2000\n",
    "t_echant = sort(random.uniform(0,10,size=n))\n",
    "mumax = 10\n",
    "mu = random.uniform(0,mumax,size=1)\n",
    "ecarttype = random.uniform(0,mu*0.1,size=1)\n",
    "#s_echant = sin(2*t_echant)+numpy.random.normal(mu,ecarttype,size=n)\n",
    "s_echant = random.normal(mu,ecarttype,size=n)\n",
    "\n",
    "figure(100)\n",
    "plot(t_echant,s_echant)\n",
    "print(\"mu = \",mu)"
   ]
  },
  {
   "cell_type": "markdown",
   "metadata": {},
   "source": [
    "La question est de calculer la valeur moyenne de ce signal au cours du temps, afin d'en avoir une vision résumée, quitte à perdre un peu d'information.\n",
    "\n",
    "Plus précisément, on cherche à tracer en fonction du temps $t$ \n",
    "$$\n",
    "s_{moy}(t) := \\dfrac{1}{t} \\int_{t_0}^t s(u) du.\n",
    "$$\n",
    "\n",
    "Comme l'expression analytique du signal bleu $s$ n'est pas connue, on doit approcher l'intégrale à l'aide des valeurs dont on dispose dans les tableaux $t_{echant}$ et $s_{echant}$."
   ]
  },
  {
   "cell_type": "markdown",
   "metadata": {},
   "source": [
    "Tracer sur le même graphe \n",
    "+ le signal $s$ en bleu,\n",
    "+ et sa valeur moyenne calculée par la méthode des trapèzes en rouge."
   ]
  },
  {
   "cell_type": "code",
   "execution_count": null,
   "metadata": {},
   "outputs": [],
   "source": []
  },
  {
   "cell_type": "markdown",
   "metadata": {},
   "source": [
    "# Approximation de l'aire d'une surface"
   ]
  },
  {
   "cell_type": "markdown",
   "metadata": {},
   "source": [
    "Effectuer, puis analyser le code suivant pour comprendre ce qu'il fait."
   ]
  },
  {
   "cell_type": "code",
   "execution_count": null,
   "metadata": {},
   "outputs": [],
   "source": [
    "def echant(numfig,n):\n",
    "    x = linspace(-1,1);\n",
    "    y = 1+x**2;\n",
    "    figure(numfig)\n",
    "    plot(x,y);\n",
    "    plot(x,-y);\n",
    "    x = linspace(1,3+2*sqrt(2));\n",
    "    y = 4-(x-3)**2/2;\n",
    "    plot(x,y);\n",
    "    plot(x,-y);\n",
    "    \n",
    "    print(\"\\n\\n\\nCliquer sur la partie haute de la figure pour représenter la frontière avec \" + repr(n) + \" points\\n\\n\\n\")\n",
    "    pts = array(ginput(n))\n",
    "    xx = pts[:,0]\n",
    "    yy = pts[:,1]\n",
    "    plot(xx,yy,'ok')\n",
    "    i = argsort(xx)    \n",
    "    return xx[i],yy[i]\n",
    "\n",
    "xx,yy = echant(1000,10)\n",
    "print(\"xx = \",xx)\n",
    "print(\"yy = \",yy)"
   ]
  },
  {
   "cell_type": "markdown",
   "metadata": {},
   "source": [
    "En utilisant la fonction echant ci-dessus, créer une fonction **airet** qui, \n",
    "+ calcule l'aire approchée $J_n$ du poisson en utilisant les $n$ points échantillonés et la formule des trapèzes composite \n",
    "+ et retourne l'erreur relative (en pourcentage) entre l'aire exacte et $J_n$.\n",
    "\n",
    "On admettra que l'aire du poisson vaut $I = \\dfrac{8}{3} (7+4\\sqrt{2})$.\n",
    "\n",
    "Faire varier le nombre de points échantillonnés sur la courbe et observer l'évolution de l'erreur."
   ]
  },
  {
   "cell_type": "code",
   "execution_count": null,
   "metadata": {},
   "outputs": [],
   "source": []
  },
  {
   "cell_type": "code",
   "execution_count": null,
   "metadata": {
    "collapsed": true
   },
   "outputs": [],
   "source": []
  }
 ],
 "metadata": {
  "kernelspec": {
   "display_name": "Python 3",
   "language": "python",
   "name": "python3"
  },
  "language_info": {
   "codemirror_mode": {
    "name": "ipython",
    "version": 3
   },
   "file_extension": ".py",
   "mimetype": "text/x-python",
   "name": "python",
   "nbconvert_exporter": "python",
   "pygments_lexer": "ipython3",
   "version": "3.7.2"
  }
 },
 "nbformat": 4,
 "nbformat_minor": 1
}
