{
 "cells": [
  {
   "cell_type": "code",
   "execution_count": 131,
   "metadata": {},
   "outputs": [],
   "source": [
    "import numpy as np\n",
    "import numpy.random as loi\n",
    "import scipy.stats as loiT\n",
    "import matplotlib.pyplot as plt\n",
    "from math import sqrt, pi, exp"
   ]
  },
  {
   "cell_type": "code",
   "execution_count": 2,
   "metadata": {},
   "outputs": [],
   "source": [
    "# TP PROBAS et STATISTIQUES en PYTHON 2\n",
    "# EXERCICE 1 : comparaison de lois uniformes : theorique & pratique"
   ]
  },
  {
   "cell_type": "code",
   "execution_count": 3,
   "metadata": {},
   "outputs": [
    {
     "ename": "SyntaxError",
     "evalue": "invalid syntax (<ipython-input-3-ab0569377001>, line 2)",
     "output_type": "error",
     "traceback": [
      "\u001b[0;36m  File \u001b[0;32m\"<ipython-input-3-ab0569377001>\"\u001b[0;36m, line \u001b[0;32m2\u001b[0m\n\u001b[0;31m    def loi_xxx(nb_val, param1, ..., barres, pas): # A COMPLETER...\u001b[0m\n\u001b[0m                                ^\u001b[0m\n\u001b[0;31mSyntaxError\u001b[0m\u001b[0;31m:\u001b[0m invalid syntax\n"
     ]
    }
   ],
   "source": [
    "# Loi xxx # A COMPLETER...\n",
    "def loi_xxx(nb_val, param1, ..., barres, pas): # A COMPLETER...\n",
    "\n",
    "    # Loi pratique (valeurs aleatoires)\n",
    "    xp = loi.xxx(param1,..., size=nb_val) # A COMPLETER...\n",
    "\n",
    "    # Normalisation\n",
    "    mini = ... # A COMPLETER...\n",
    "    maxi = ... # A COMPLETER...\n",
    "\n",
    "    # Loi theorique\n",
    "    vec = np.arange(mini, maxi, pas)\n",
    "    xt = loiT.xxx.xxx(vec, ) # A COMPLETER...\n",
    "\n",
    "    # Affichage\n",
    "    plt.figure()\n",
    "    plt.hist(xp, barres, normed=True, label='resultat pratique')\n",
    "    plt.plot(vec, xt, 'r', label='resultat theorique') # A MODIFIER dans le cas discret par 'or'\n",
    "    plt.title('Loi xxx') # A COMPLETER...\n",
    "    plt.xlabel('Intervalles')\n",
    "    plt.ylabel('Probabilites')\n",
    "    plt.legend()\n",
    "    plt.show()"
   ]
  },
  {
   "cell_type": "code",
   "execution_count": 4,
   "metadata": {},
   "outputs": [],
   "source": [
    "# DEBUT DU PROGRAMME PRINCIPAL\n",
    "\n",
    "# Constante\n",
    "nb_barres = 20\n",
    "pas_reel = 0.02\n",
    "pas_discret = 1"
   ]
  },
  {
   "cell_type": "code",
   "execution_count": 5,
   "metadata": {},
   "outputs": [
    {
     "ename": "NameError",
     "evalue": "name 'loi_unif' is not defined",
     "output_type": "error",
     "traceback": [
      "\u001b[0;31m---------------------------------------------------------------------------\u001b[0m",
      "\u001b[0;31mNameError\u001b[0m                                 Traceback (most recent call last)",
      "\u001b[0;32m<ipython-input-5-0512aefa5e9e>\u001b[0m in \u001b[0;36m<module>\u001b[0;34m\u001b[0m\n\u001b[1;32m      1\u001b[0m \u001b[0;31m# (a) Tests de la loi Uniforme : loi discrete ou reelle au choix...\u001b[0m\u001b[0;34m\u001b[0m\u001b[0;34m\u001b[0m\u001b[0;34m\u001b[0m\u001b[0m\n\u001b[1;32m      2\u001b[0m \u001b[0;31m# 50 valeurs suivant une loi uniforme (min=0 & max=20)\u001b[0m\u001b[0;34m\u001b[0m\u001b[0;34m\u001b[0m\u001b[0;34m\u001b[0m\u001b[0m\n\u001b[0;32m----> 3\u001b[0;31m \u001b[0mloi_unif\u001b[0m\u001b[0;34m(\u001b[0m\u001b[0;36m50\u001b[0m\u001b[0;34m,\u001b[0m \u001b[0;36m0\u001b[0m\u001b[0;34m,\u001b[0m \u001b[0;36m20\u001b[0m\u001b[0;34m,\u001b[0m \u001b[0mnb_barres\u001b[0m\u001b[0;34m,\u001b[0m \u001b[0mpas_reel\u001b[0m\u001b[0;34m)\u001b[0m\u001b[0;34m\u001b[0m\u001b[0;34m\u001b[0m\u001b[0m\n\u001b[0m\u001b[1;32m      4\u001b[0m \u001b[0;31m# 10000 valeurs suivant une loi uniforme (min=0 & max=20)\u001b[0m\u001b[0;34m\u001b[0m\u001b[0;34m\u001b[0m\u001b[0;34m\u001b[0m\u001b[0m\n\u001b[1;32m      5\u001b[0m \u001b[0mloi_unif\u001b[0m\u001b[0;34m(\u001b[0m\u001b[0;36m10000\u001b[0m\u001b[0;34m,\u001b[0m \u001b[0;36m0\u001b[0m\u001b[0;34m,\u001b[0m \u001b[0;36m20\u001b[0m\u001b[0;34m,\u001b[0m \u001b[0mnb_barres\u001b[0m\u001b[0;34m,\u001b[0m \u001b[0mpas_reel\u001b[0m\u001b[0;34m)\u001b[0m\u001b[0;34m\u001b[0m\u001b[0;34m\u001b[0m\u001b[0m\n",
      "\u001b[0;31mNameError\u001b[0m: name 'loi_unif' is not defined"
     ]
    }
   ],
   "source": [
    "# (a) Tests de la loi Uniforme : loi discrete ou reelle au choix...\n",
    "# 50 valeurs suivant une loi uniforme (min=0 & max=20)\n",
    "loi_unif(50, 0, 20, nb_barres, pas_reel)\n",
    "# 10000 valeurs suivant une loi uniforme (min=0 & max=20)\n",
    "loi_unif(10000, 0, 20, nb_barres, pas_reel)\n",
    "# 10000 valeurs suivant une loi uniforme (min=-5 & max=5)\n",
    "loi_unif(10000, -5, 5, nb_barres, pas_reel)\n",
    "\n",
    "# (b) Tests de la loi Exponentielle : loi reelle\n",
    "# A COMPLETER..."
   ]
  },
  {
   "cell_type": "code",
   "execution_count": 46,
   "metadata": {},
   "outputs": [
    {
     "data": {
      "text/plain": [
       "matrix([[ 1,  4,  5,  7],\n",
       "        [ 5,  7,  3, 11],\n",
       "        [18,  4,  9,  2]])"
      ]
     },
     "execution_count": 46,
     "metadata": {},
     "output_type": "execute_result"
    }
   ],
   "source": [
    "# Question 1\n",
    "np.array([1, 4, 2, 9, 14, 3, 16])\n",
    "np.array([6, 2, 15, 8, 24, 7])\n",
    "np.mat('[1 4 5 7; 5 7 3 11; 18 4 9 2]')"
   ]
  },
  {
   "cell_type": "code",
   "execution_count": 51,
   "metadata": {},
   "outputs": [
    {
     "data": {
      "text/plain": [
       "array([ 3. ,  3.5,  4. ,  4.5,  5. ,  5.5,  6. ,  6.5,  7. ,  7.5,  8. ,\n",
       "        8.5,  9. ,  9.5, 10. , 10.5, 11. , 11.5, 12. , 12.5, 13. , 13.5,\n",
       "       14. , 14.5, 15. , 15.5, 16. , 16.5, 17. , 17.5, 18. , 18.5, 19. ,\n",
       "       19.5, 20. ])"
      ]
     },
     "execution_count": 51,
     "metadata": {},
     "output_type": "execute_result"
    }
   ],
   "source": [
    "# Question 2\n",
    "np.arange(3, 20.5, 0.5)"
   ]
  },
  {
   "cell_type": "code",
   "execution_count": 61,
   "metadata": {},
   "outputs": [
    {
     "data": {
      "text/plain": [
       "array([[2., 0., 0., 1., 1.],\n",
       "       [0., 2., 0., 1., 1.],\n",
       "       [0., 0., 2., 0., 0.]])"
      ]
     },
     "execution_count": 61,
     "metadata": {},
     "output_type": "execute_result"
    }
   ],
   "source": [
    "# Question 3\n",
    "np.eye(3, 3) * 4\n",
    "np.concatenate((np.eye(3) * 2, np.array([[1, 1], [1, 1], [0, 0]])), 1)"
   ]
  },
  {
   "cell_type": "code",
   "execution_count": 87,
   "metadata": {},
   "outputs": [],
   "source": [
    "# Question 4\n",
    "B = np.random.rand(3, 5);\n",
    "C = np.random.rand(3, 5);"
   ]
  },
  {
   "cell_type": "code",
   "execution_count": 88,
   "metadata": {},
   "outputs": [],
   "source": [
    "# Question 5\n",
    "G = B*C\n",
    "F = np.dot(B, np.transpose(C))"
   ]
  },
  {
   "cell_type": "code",
   "execution_count": 145,
   "metadata": {},
   "outputs": [
    {
     "name": "stdout",
     "output_type": "stream",
     "text": [
      "[0.52198471 0.40212463]\n"
     ]
    },
    {
     "data": {
      "text/plain": [
       "array([0.77511983])"
      ]
     },
     "execution_count": 145,
     "metadata": {},
     "output_type": "execute_result"
    }
   ],
   "source": [
    "# Question 6\n",
    "F_2 = F[F>0.2]\n",
    "print(F_2[F_2<0.6])\n",
    "G[G > 0.6]"
   ]
  },
  {
   "cell_type": "code",
   "execution_count": 146,
   "metadata": {},
   "outputs": [],
   "source": [
    "# 6.2\n",
    "# Question 1"
   ]
  },
  {
   "cell_type": "code",
   "execution_count": 147,
   "metadata": {},
   "outputs": [],
   "source": [
    "def loi_normale(mu, sigma, pas):\n",
    "\n",
    "    # Normalisation\n",
    "    mini = -1\n",
    "    maxi = 6\n",
    "    \n",
    "    # mu = location | sigma = scale\n",
    "    # Loi theorique\n",
    "    vec = np.arange(mini, maxi, pas)\n",
    "    xt = loiT.norm.pdf(vec, mu, sigma)\n",
    "\n",
    "    # Affichage\n",
    "    plt.figure()\n",
    "    plt.plot(vec, xt, 'r', label='resultat theorique')\n",
    "    plt.title('Loi normale')\n",
    "    plt.xlabel('Intervalles')\n",
    "    plt.ylabel('Probabilites')\n",
    "    plt.legend()\n",
    "    plt.show()"
   ]
  },
  {
   "cell_type": "code",
   "execution_count": 173,
   "metadata": {},
   "outputs": [
    {
     "data": {
      "image/png": "[encoded data removed]",
      "text/plain": [
       "<Figure size 432x288 with 1 Axes>"
      ]
     },
     "metadata": {
      "needs_background": "light"
     },
     "output_type": "display_data"
    }
   ],
   "source": [
    "loi_normale(2, 1, 0.001)"
   ]
  },
  {
   "cell_type": "code",
   "execution_count": 180,
   "metadata": {},
   "outputs": [],
   "source": [
    "# Question 2\n",
    "def loi_normale_expo(mu, sigma, lambd, pas):\n",
    "\n",
    "    # Normalisation\n",
    "    mini = 0\n",
    "    maxi = 10\n",
    "    \n",
    "    # mu = location | sigma = scale\n",
    "    # Loi theorique\n",
    "    vec = np.arange(mini, maxi + 1, pas)\n",
    "    xnorm = loiT.norm.pdf(vec, mu, sigma)\n",
    "    xexp = loiT.expon.pdf(vec)\n",
    "    # , 1/lambd, 1/pow(lambd, 2)\n",
    "\n",
    "    # Affichage\n",
    "    plt.figure()\n",
    "    plt.plot(vec, xnorm, 'r', label='resultat theorique normale')\n",
    "    plt.plot(vec, xexp, 'g', label='resultat theorique exponentielle')\n",
    "    plt.title('Loi normale et exponentielle')\n",
    "    plt.xlabel('Intervalles')\n",
    "    plt.ylabel('Probabilites')\n",
    "    plt.legend()\n",
    "    plt.show()"
   ]
  },
  {
   "cell_type": "code",
   "execution_count": 181,
   "metadata": {},
   "outputs": [
    {
     "data": {
      "image/png": "[encoded data removed]",
      "text/plain": [
       "<Figure size 432x288 with 1 Axes>"
      ]
     },
     "metadata": {
      "needs_background": "light"
     },
     "output_type": "display_data"
    }
   ],
   "source": [
    "loi_normale_expo(5, 3, 1, 0.001)"
   ]
  },
  {
   "cell_type": "code",
   "execution_count": 183,
   "metadata": {},
   "outputs": [
    {
     "data": {
      "text/plain": [
       "(array([  5.,   9.,  58., 128., 220., 270., 196.,  87.,  19.,   8.]),\n",
       " array([1.5368452 , 2.19094383, 2.84504245, 3.49914108, 4.1532397 ,\n",
       "        4.80733833, 5.46143695, 6.11553558, 6.7696342 , 7.42373283,\n",
       "        8.07783145]),\n",
       " <BarContainer object of 10 artists>)"
      ]
     },
     "execution_count": 183,
     "metadata": {},
     "output_type": "execute_result"
    },
    {
     "data": {
      "image/png": "[encoded data removed]",
      "text/plain": [
       "<Figure size 432x288 with 1 Axes>"
      ]
     },
     "metadata": {
      "needs_background": "light"
     },
     "output_type": "display_data"
    }
   ],
   "source": [
    "# Question 3\n",
    "#rvec = np.random.rand(1000)\n",
    "vecx = loi.normal(5, 1, (1000))\n",
    "plt.hist(vecx)#, normed=True, label='Loi normale ') #"
   ]
  },
  {
   "cell_type": "code",
   "execution_count": null,
   "metadata": {},
   "outputs": [],
   "source": []
  }
 ],
 "metadata": {
  "kernelspec": {
   "display_name": "Python 3",
   "language": "python",
   "name": "python3"
  },
  "language_info": {
   "codemirror_mode": {
    "name": "ipython",
    "version": 3
   },
   "file_extension": ".py",
   "mimetype": "text/x-python",
   "name": "python",
   "nbconvert_exporter": "python",
   "pygments_lexer": "ipython3",
   "version": "3.8.3"
  }
 },
 "nbformat": 4,
 "nbformat_minor": 4
}
